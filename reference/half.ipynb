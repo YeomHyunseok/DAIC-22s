{
 "cells": [
  {
   "cell_type": "code",
   "execution_count": 5,
   "metadata": {},
   "outputs": [
    {
     "name": "stdout",
     "output_type": "stream",
     "text": [
      "✅ 119구급대원 현장응급처치 표준지침(2023년 개정본) Part03(201-300페이지).json - full_text 절반 저장 완료\n",
      "✅ 119구급대원 현장응급처치 표준지침(2023년 개정본) Part04(301-400페이지).json - full_text 절반 저장 완료\n",
      "✅ 119구급대원 현장응급처치 표준지침(2023년 개정본) Part05(401-500페이지).json - full_text 절반 저장 완료\n",
      "✅ 119구급대원 현장응급처치 표준지침(2023년 개정본) Part06(501-600페이지).json - full_text 절반 저장 완료\n",
      "✅ 119구급대원 현장응급처치 표준지침(2023년 개정본) Part07(601-700페이지).json - full_text 절반 저장 완료\n",
      "✅ 2024 American Heart Association And American Red Cross Guidelines For First Aid.json - full_text 절반 저장 완료\n",
      "✅ 2024 International Consensus On Cardiopulmonary Re...Fe Support; Educatio P01(1-20).json - full_text 절반 저장 완료\n",
      "✅ 2024 International Consensus On Cardiopulmonary Re...Fe Support; Educatio P02(21-40).json - full_text 절반 저장 완료\n",
      "✅ 2024 International Consensus On Cardiopulmonary Re...Fe Support; Educatio P03(41-60).json - full_text 절반 저장 완료\n",
      "✅ 2024 International Consensus On Cardiopulmonary Re...Fe Support; Educatio P04(61-80).json - full_text 절반 저장 완료\n",
      "✅ 2024 International Consensus On Cardiopulmonary Re...Fe Support; Educatio P05(81-100).json - full_text 절반 저장 완료\n",
      "✅ 2024 International Consensus On Cardiopulmonary Re...Fe Support; Educatio P06(101-108).json - full_text 절반 저장 완료\n",
      "✅ 9789241513081-Eng Part01(18-117페이지).json - full_text 절반 저장 완료\n",
      "✅ 9789241513081-Eng Part02(118-217페이지).json - full_text 절반 저장 완료\n",
      "✅ 9789241513081-Eng Part03(218-240페이지).json - full_text 절반 저장 완료\n",
      "✅ Aha Guideline 1.json - full_text 절반 저장 완료\n",
      "✅ Atls%208Th%20Edition Ch01 Initial Assessment And Management(1-24페이지).json - full_text 절반 저장 완료\n",
      "✅ Atls%208Th%20Edition Ch02 Airway And Ventilatory Management(25-54페이지).json - full_text 절반 저장 완료\n",
      "✅ Atls%208Th%20Edition Ch03 Shock(55-84페이지).json - full_text 절반 저장 완료\n",
      "✅ Atls%208Th%20Edition Ch04 Thoracic Trauma(85-110페이지).json - full_text 절반 저장 완료\n",
      "✅ Atls%208Th%20Edition Ch05 Abdominal And Pelvic Trauma(111-130페이지).json - full_text 절반 저장 완료\n",
      "✅ Atls%208Th%20Edition Ch06 Head Trauma(131-156페이지).json - full_text 절반 저장 완료\n",
      "✅ Atls%208Th%20Edition Ch07 Spine And Spinal Cord Trauma(157-186페이지).json - full_text 절반 저장 완료\n",
      "✅ Atls%208Th%20Edition Ch08 Musculoskeletal Trauma(187-210페이지).json - full_text 절반 저장 완료\n",
      "✅ Atls%208Th%20Edition Ch09 Thermal Injuries(211-224페이지).json - full_text 절반 저장 완료\n",
      "✅ Atls%208Th%20Edition Ch10 Geriatric Trauma(225-246페이지).json - full_text 절반 저장 완료\n",
      "✅ Atls%208Th%20Edition Ch11 Trauma In Women(259-268페이지).json - full_text 절반 저장 완료\n",
      "✅ Atls%208Th%20Edition Ch12 Transfer To Definitive Care(269-278페이지).json - full_text 절반 저장 완료\n",
      "✅ Atls%208Th%20Edition Ch13 Injury Prevention(279-282페이지).json - full_text 절반 저장 완료\n",
      "✅ Atls%208Th%20Edition Ch14 Biomechanics Of Injury(283-288페이지).json - full_text 절반 저장 완료\n",
      "✅ Atls%208Th%20Edition Ch15 Chapter 15(289-292페이지).json - full_text 절반 저장 완료\n",
      "✅ Atls%208Th%20Edition Ch16 Sample Trauma Flow Sheet(293-296페이지).json - full_text 절반 저장 완료\n",
      "✅ Atls%208Th%20Edition Ch17 Tetanus Immunization(297-298페이지).json - full_text 절반 저장 완료\n",
      "✅ Atls%208Th%20Edition Ch18 Ocular Trauma(299-304페이지).json - full_text 절반 저장 완료\n",
      "✅ Atls%208Th%20Edition Ch19 Chapter 19(305-320페이지).json - full_text 절반 저장 완료\n",
      "✅ Atls%208Th%20Edition Ch20 Disaster Management And Emergency Preparedness(321-334페이지).json - full_text 절반 저장 완료\n",
      "✅ Atls%208Th%20Edition Ch21 Triage Scenarios(335-350페이지).json - full_text 절반 저장 완료\n",
      "✅ Atls%208Th%20Edition Ch22 Index(351-351페이지).json - full_text 절반 저장 완료\n",
      "✅ Bulletin Of The World Health Organization.json - full_text 절반 저장 완료\n",
      "✅ Em-Handbook-2Nd-Edition-2020.json - full_text 절반 저장 완료\n",
      "⚠️ full_text 없음 또는 문자열 아님: pmc_emergency_fulltext_2025.json\n"
     ]
    }
   ],
   "source": [
    "import os\n",
    "import json\n",
    "\n",
    "FOLDER = './'\n",
    "\n",
    "def cut_full_text_in_half(folder_path):\n",
    "    for filename in os.listdir(folder_path):\n",
    "        if filename.endswith('.json'):\n",
    "            file_path = os.path.join(folder_path, filename)\n",
    "            try:\n",
    "                with open(file_path, 'r', encoding='utf-8') as f:\n",
    "                    data = json.load(f)\n",
    "\n",
    "                full_text = data.get('full_text', '')\n",
    "                if isinstance(full_text, str) and len(full_text) > 0:\n",
    "                    halfway = len(full_text) // 2\n",
    "                    shortened_text = full_text[:halfway]\n",
    "                    data['full_text'] = shortened_text\n",
    "\n",
    "                    with open(file_path, 'w', encoding='utf-8') as f:\n",
    "                        json.dump(data, f, ensure_ascii=False, indent=2)\n",
    "\n",
    "                    print(f\"✅ {filename} - full_text 절반 저장 완료\")\n",
    "                else:\n",
    "                    print(f\"⚠️ full_text 없음 또는 문자열 아님: {filename}\")\n",
    "\n",
    "            except Exception as e:\n",
    "                print(f\"❌ 오류 발생 ({filename}): {e}\")\n",
    "\n",
    "cut_full_text_in_half(FOLDER)\n"
   ]
  }
 ],
 "metadata": {
  "kernelspec": {
   "display_name": "Python 3",
   "language": "python",
   "name": "python3"
  },
  "language_info": {
   "codemirror_mode": {
    "name": "ipython",
    "version": 3
   },
   "file_extension": ".py",
   "mimetype": "text/x-python",
   "name": "python",
   "nbconvert_exporter": "python",
   "pygments_lexer": "ipython3",
   "version": "3.11.8"
  }
 },
 "nbformat": 4,
 "nbformat_minor": 2
}
